{
 "cells": [
  {
   "cell_type": "code",
   "execution_count": 9,
   "metadata": {},
   "outputs": [],
   "source": [
    "from obspy import read, Trace, Stream, UTCDateTime\n",
    "from obspy.core import AttribDict\n",
    "from obspy.io.segy.segy import SEGYTraceHeader, SEGYBinaryFileHeader\n",
    "from obspy.io.segy.core import _read_segy\n",
    "import numpy as np\n",
    "import sys\n",
    "from datetime import datetime"
   ]
  },
  {
   "cell_type": "code",
   "execution_count": 2,
   "metadata": {},
   "outputs": [],
   "source": [
    "input_fpath = \"C:\\\\Users\\\\Nur Jamiludin\\\\Documents\\\\GitHub\\\\ground_penetrating_radar_app\\\\data_gpr\\\\02_09_2023_10_49_32.segy\"\n",
    "dt = 1 * 10**-9 # second"
   ]
  },
  {
   "cell_type": "code",
   "execution_count": 10,
   "metadata": {},
   "outputs": [],
   "source": [
    "text_read = np.genfromtxt(input_fpath, dtype=np.float64)\n",
    "total_channel = text_read.shape[1]\n",
    "total_data = text_read.shape[0]\n"
   ]
  },
  {
   "cell_type": "code",
   "execution_count": 12,
   "metadata": {},
   "outputs": [],
   "source": [
    "stream = Stream()\n",
    "\n",
    "for i in range(total_channel):\n",
    "    # Create some random data.\n",
    "    data = text_read[:,i]\n",
    "    data = np.float32(data)\n",
    "    trace = Trace(data=data)\n",
    "\n",
    "    trace.stats.delta = dt\n",
    "    if not hasattr(trace.stats, 'segy.trace_header'):\n",
    "        trace.stats.segy = {}\n",
    "    trace.stats.segy.trace_header = SEGYTraceHeader()\n",
    "    trace.stats.segy.trace_header.trace_sequence_number_within_line = i + 1\n",
    "\n",
    "    # Add trace to stream\n",
    "    stream.append(trace)"
   ]
  },
  {
   "cell_type": "code",
   "execution_count": 13,
   "metadata": {},
   "outputs": [],
   "source": [
    "name_file_now = datetime.now().strftime(\"%d_%m_%Y_%H_%M_%S.segy\")\n",
    "stream.write(name_file_now, format=\"SEGY\", data_encoding=1)"
   ]
  }
 ],
 "metadata": {
  "kernelspec": {
   "display_name": "base",
   "language": "python",
   "name": "python3"
  },
  "language_info": {
   "codemirror_mode": {
    "name": "ipython",
    "version": 3
   },
   "file_extension": ".py",
   "mimetype": "text/x-python",
   "name": "python",
   "nbconvert_exporter": "python",
   "pygments_lexer": "ipython3",
   "version": "3.9.13"
  }
 },
 "nbformat": 4,
 "nbformat_minor": 2
}
